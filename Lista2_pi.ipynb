{
  "nbformat": 4,
  "nbformat_minor": 0,
  "metadata": {
    "colab": {
      "provenance": [],
      "authorship_tag": "ABX9TyN5c6o/8hgxSpS/QjCdHZ8o",
      "include_colab_link": true
    },
    "kernelspec": {
      "name": "python3",
      "display_name": "Python 3"
    },
    "language_info": {
      "name": "python"
    }
  },
  "cells": [
    {
      "cell_type": "markdown",
      "metadata": {
        "id": "view-in-github",
        "colab_type": "text"
      },
      "source": [
        "<a href=\"https://colab.research.google.com/github/IaiaLS/Processamento-Informa-o/blob/main/Lista2_pi.ipynb\" target=\"_parent\"><img src=\"https://colab.research.google.com/assets/colab-badge.svg\" alt=\"Open In Colab\"/></a>"
      ]
    },
    {
      "cell_type": "markdown",
      "source": [
        "Lista de Condicional"
      ],
      "metadata": {
        "id": "bcoWujEFmzgr"
      }
    },
    {
      "cell_type": "markdown",
      "source": [
        "1. Escreva um programa que pergunte a velocidade do carro de um\n",
        "usuário. Caso ultrapasse 80 km/h, exiba uma mensagem dizendo\n",
        "que o usuário foi multado. Nesse caso, exiba o valor da multa,\n",
        "cobrando R$ 5 por km acima de 80 km/h"
      ],
      "metadata": {
        "id": "uk_Fyh-3qeMp"
      }
    },
    {
      "cell_type": "markdown",
      "source": [
        "| Entrada   | Processamento | Saída       |\n",
        "|---------|-------|-------------|\n",
        "| velocidade   | leia velocidade    | msg  |\n",
        "||exibe msg| valor da multa |\n",
        "||valor multa = (velcidade -80)*5||\n",
        "||exibe valor multa||"
      ],
      "metadata": {
        "id": "Ej3eyqf6oDhv"
      }
    },
    {
      "cell_type": "code",
      "execution_count": null,
      "metadata": {
        "colab": {
          "base_uri": "https://localhost:8080/"
        },
        "id": "-Fu3SP_4mWS4",
        "outputId": "c6fca49a-33bd-4d36-fd88-2f195b4b3492"
      },
      "outputs": [
        {
          "output_type": "stream",
          "name": "stdout",
          "text": [
            "Informe a velocidade: 92\n",
            "O usuário foi multado. \n",
            "Valor da multa: 60.00\n"
          ]
        }
      ],
      "source": [
        "velocidade = float(input('Informe a velocidade: '))\n",
        "if velocidade > 80:\n",
        "  print(\"O usuário foi multado. \")\n",
        "  multa = (velocidade -80) * 5\n",
        "  print(\"Valor da multa: %.2f\"%multa)"
      ]
    },
    {
      "cell_type": "markdown",
      "source": [
        "2. Escreva um programa que leia três números e que imprima o\n",
        "maior e o menor"
      ],
      "metadata": {
        "id": "d_kKo44Or5eR"
      }
    },
    {
      "cell_type": "markdown",
      "source": [
        "| Entrada   | Processamento | Saída       |\n",
        "|---------|-------|-------------|\n",
        "| n1,n2,n3   | leia n1,n2,n3    | maior e menor   |\n",
        "||||\n",
        "||||\n",
        "||||"
      ],
      "metadata": {
        "id": "5YALvIEBsDVx"
      }
    },
    {
      "cell_type": "code",
      "source": [
        "\n",
        "n1 = int(input(\"Número 1: \"))\n",
        "n2 = int(input(\"Número 2: \"))\n",
        "n3 = int(input(\"Número 3: \"))\n",
        "aux=0\n",
        "if n1>n2:\n",
        "  maior=n1\n",
        "  menor=n2\n",
        "else:\n",
        "  maior=n2\n",
        "  menor=n1\n",
        "if n1>n3:\n",
        "  maior=n1\n",
        "  menor=n3\n",
        "else:\n",
        "  menor=n1\n",
        "  maior=n3\n",
        "if n2>n3:\n",
        "  maior=n2\n",
        "  menor=n3\n",
        "  if n1<n3:\n",
        "    menor=n1\n",
        "else:\n",
        "  maior=n3\n",
        "  menor=n2\n",
        "  if n1<n2:\n",
        "    menor=n1\n",
        "\n",
        "print(\"Maior: %d\"%maior)\n",
        "print(\"Menor: %d\"%menor)\n"
      ],
      "metadata": {
        "colab": {
          "base_uri": "https://localhost:8080/"
        },
        "id": "YlbdTxUutTnS",
        "outputId": "dce85091-0d67-426d-85d1-d3e55159a3e4"
      },
      "execution_count": null,
      "outputs": [
        {
          "output_type": "stream",
          "name": "stdout",
          "text": [
            "Número 1: 5\n",
            "Número 2: 3\n",
            "Número 3: 7\n",
            "Maior: 7\n",
            "Menor: 3\n"
          ]
        }
      ]
    },
    {
      "cell_type": "markdown",
      "source": [
        "3. Escreva um programa que pergunte o salário do funcionário e\n",
        "calcule o valor do aumento. Para salários superiores a R$\n",
        "1.250,00, calcule um aumento de 10%. Para os inferiores ou\n",
        "iguais, de 15%"
      ],
      "metadata": {
        "id": "PSOMYY2kyhis"
      }
    },
    {
      "cell_type": "code",
      "source": [
        "salario = float(input(\"Informe o salário do funcionário: \"))\n",
        "if salario>4250:\n",
        "  aumento = salario*0.1\n",
        "else:\n",
        "  aumento = salario*0.15\n",
        "print(\"Aumento do funcionario: %.2f\"%aumento)\n"
      ],
      "metadata": {
        "colab": {
          "base_uri": "https://localhost:8080/"
        },
        "id": "AE9EH5Gmytvj",
        "outputId": "5232a511-f950-41ec-fa16-946f8056125d"
      },
      "execution_count": null,
      "outputs": [
        {
          "output_type": "stream",
          "name": "stdout",
          "text": [
            "Informe o salário do funcionário: 1000\n",
            "Aumento do funcionario: 150.00\n"
          ]
        }
      ]
    },
    {
      "cell_type": "markdown",
      "source": [
        "4. Escreva um programa que pergunte a distância que um\n",
        "passageiro deseja percorrer em km. Calcule o preço da\n",
        "passagem, cobrando R$ 0,50 por km para viagens de até de 200\n",
        "km, e R$ 0,45 para viagens mais longas"
      ],
      "metadata": {
        "id": "f63j-z7pzZ5u"
      }
    },
    {
      "cell_type": "code",
      "source": [
        "distancia = float(input(\"Informe a distância: \"))\n",
        "if distancia<200:\n",
        "  passagem = passagem*0.5\n",
        "else:\n",
        "  passagem = passagem*0.45\n",
        "print(\"Valor da passagem: %.2f\"%passagem)"
      ],
      "metadata": {
        "colab": {
          "base_uri": "https://localhost:8080/"
        },
        "id": "46CSlFjhzgdc",
        "outputId": "bcd88a85-4edf-4713-9b79-121822db29be"
      },
      "execution_count": null,
      "outputs": [
        {
          "output_type": "stream",
          "name": "stdout",
          "text": [
            "Informe a distância: 100\n",
            "Valor da passagem: 50.00\n"
          ]
        }
      ]
    },
    {
      "cell_type": "markdown",
      "source": [
        "5.Escreva um programa que leia dois números e que pergunte\n",
        "qual operação você deseja realizar. Você deve poder calcular a\n",
        "soma (+), subtração (-), multiplicação (*) e divisão (/). Exiba o\n",
        "resultado da operação solicitada"
      ],
      "metadata": {
        "id": "6VXyX-hb2tdi"
      }
    },
    {
      "cell_type": "code",
      "source": [
        "n1 = float(input(\"Informe n1: \"))\n",
        "n2 = float(input(\"Informe n2: \"))\n",
        "operador = input()\n",
        "if operador == '+':\n",
        "  resultado = n1+n2\n",
        "elif operador == '-':\n",
        "  resultado = n1-n2\n",
        "elif operador == '*':\n",
        "  resultado = n1*n2\n",
        "elif operador == '/':\n",
        "  resultado = n1/n2\n",
        "else:\n",
        "  print(\"operacao invalida\")\n",
        "print(\"Resultado: %.2f\"%resultado)"
      ],
      "metadata": {
        "id": "wzCmR0463_OD"
      },
      "execution_count": null,
      "outputs": []
    },
    {
      "cell_type": "markdown",
      "source": [
        "6. Escreva um programa para aprovar o empréstimo bancário\n",
        "para compra de uma casa. O programa deve perguntar o valor\n",
        "da casa a comprar, o salário e a quantidade de anos a pagar. O\n",
        "valor da prestação mensal não pode ser superior a 30% do\n",
        "salário. Calcule o valor da prestação como sendo o valor da\n",
        "casa a comprar dividido pelo número de meses a pagar."
      ],
      "metadata": {
        "id": "JhOY_9Ws5KQk"
      }
    },
    {
      "cell_type": "code",
      "source": [
        "valorCasa = float(input(\"Informe o valor da casa: \"))\n",
        "salario = float(input(\"Informe o salario: \"))\n",
        "anos = int(input(\"Informe anos: \"))\n",
        "valorPres = valorCasa/(anos*12)\n",
        "if valorPres <= salario*0.3:\n",
        "  print(\"Emprestimo aprovado\")\n",
        "else:\n",
        "  print(\"Emprestimo Reprovado\")\n"
      ],
      "metadata": {
        "id": "m06BQfJY5Rj7"
      },
      "execution_count": null,
      "outputs": []
    },
    {
      "cell_type": "markdown",
      "source": [
        "7. Escreva um programa que calcule o preço a pagar pelo\n",
        "fornecimento de energia elétrica. Pergunte a quantidade de\n",
        "kWh consumida e o tipo de instalação: R para residências, I\n",
        "para indústrias e C para comércios. Calcule o preço a pagar de\n",
        "acordo com a tabela a seguir."
      ],
      "metadata": {
        "id": "52a4d2_n6JD2"
      }
    },
    {
      "cell_type": "code",
      "source": [
        "kwh = float(input(\"Informe a quantidade de KWh consumidas: \"))\n",
        "tipo = input(\"Informe o tipo de instalação(R - residencial; I - industria ; C - comercial ): \")\n",
        "if tipo==\"R\":\n",
        "  if kwh>500:\n",
        "    valor = kwh*0.65\n",
        "  else:\n",
        "    valor = kwh*0.4\n",
        "elif tipo == \"I\":\n",
        "  if kwh>5000:\n",
        "    valor = kwh*0.6\n",
        "  else:\n",
        "    valor = kwh*0.55\n",
        "elif tipo == \"C\":\n",
        "  if kwh>1000:\n",
        "    valor = kwh*0.6\n",
        "  else:\n",
        "    valor = kwh*0.55\n",
        "else:\n",
        "  print(\"Informação de tipo de instalação inválida!\")\n",
        "print(\"Valor da conta: %.2f\"%valor)"
      ],
      "metadata": {
        "id": "SLQqErAa6OqC",
        "colab": {
          "base_uri": "https://localhost:8080/"
        },
        "outputId": "f9d24831-1065-4f24-8187-29e7ce522e31"
      },
      "execution_count": null,
      "outputs": [
        {
          "output_type": "stream",
          "name": "stdout",
          "text": [
            "Informe a quantidade de KWh consumidas: 10\n",
            "Informe o tipo de instalação(R - residencial; I - industria ; C - comercial ): R\n",
            "Valor da conta: 4.00\n"
          ]
        }
      ]
    }
  ]
}