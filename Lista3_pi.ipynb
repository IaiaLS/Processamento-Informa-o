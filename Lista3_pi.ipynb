{
  "nbformat": 4,
  "nbformat_minor": 0,
  "metadata": {
    "colab": {
      "provenance": [],
      "authorship_tag": "ABX9TyPqfOVrMX+ZsogQHnFUP6KD",
      "include_colab_link": true
    },
    "kernelspec": {
      "name": "python3",
      "display_name": "Python 3"
    },
    "language_info": {
      "name": "python"
    }
  },
  "cells": [
    {
      "cell_type": "markdown",
      "metadata": {
        "id": "view-in-github",
        "colab_type": "text"
      },
      "source": [
        "<a href=\"https://colab.research.google.com/github/IaiaLS/Processamento-Informa-o/blob/main/Lista3_pi.ipynb\" target=\"_parent\"><img src=\"https://colab.research.google.com/assets/colab-badge.svg\" alt=\"Open In Colab\"/></a>"
      ]
    },
    {
      "cell_type": "markdown",
      "source": [
        "1. Escreva um programa para ler a idade de uma pessoa e\n",
        "informar:\n",
        "* Se é maior de idade;\n",
        "* Se é menor de idade;\n",
        "* Se é maior de 65 anos;\n",
        "* Caso a idade digitada for menor ou igual a zero informar\n",
        "mensagem: “Idade Invalida!”"
      ],
      "metadata": {
        "id": "hbW4fD3J4cru"
      }
    },
    {
      "cell_type": "code",
      "source": [
        "idade = int(input(\"Informe a idade: \"))\n",
        "if idade<=0:\n",
        "  print(\"idade invalida.\")\n",
        "elif idade<18:\n",
        "  print(\"É menor de idade. \")\n",
        "else:\n",
        "  print(\"É maior de idade\")\n",
        "  if idade > 65:\n",
        "    print(\"Tem mais que 65 anos.\")\n"
      ],
      "metadata": {
        "colab": {
          "base_uri": "https://localhost:8080/"
        },
        "id": "c2r39fmb4lU-",
        "outputId": "dc104856-a1ab-4f8a-c037-20659e9f469a"
      },
      "execution_count": null,
      "outputs": [
        {
          "output_type": "stream",
          "name": "stdout",
          "text": [
            "Informe a idade: 66\n",
            "É maior de idade\n",
            "Tem mais que 65 anos.\n"
          ]
        }
      ]
    },
    {
      "cell_type": "markdown",
      "source": [
        "2. Ler o salário de uma pessoa e imprimir o desconto do INSS\n",
        "segundo a tabela a seguir:"
      ],
      "metadata": {
        "id": "N6pWFEv959q0"
      }
    },
    {
      "cell_type": "code",
      "source": [
        "salario = float(input(\"Informe o salario: \"))\n",
        "if salario <=600:\n",
        "  imposto = 0\n",
        "elif salario >600 and salario <=1200:\n",
        "  imposto = salario*0.2\n",
        "elif salario >1200 and salario<=2000:\n",
        "  imposto = salario*0.25\n",
        "else:\n",
        "  imposto = salario*0.3\n",
        "print(\"desconto INSS: %.2f\"%imposto)\n"
      ],
      "metadata": {
        "colab": {
          "base_uri": "https://localhost:8080/"
        },
        "id": "rNDWnHlx6oOB",
        "outputId": "b8abc4d4-0d4f-40bb-b185-73111045a60d"
      },
      "execution_count": null,
      "outputs": [
        {
          "output_type": "stream",
          "name": "stdout",
          "text": [
            "Informe o salario: 10000\n",
            "desconto INSS: 3000.00\n"
          ]
        }
      ]
    },
    {
      "cell_type": "markdown",
      "source": [
        "3. Verificar se a soma de dois inteiros, lidos, é maior do que\n",
        "10, se for imprimir seu valor."
      ],
      "metadata": {
        "id": "J_w7mrQg87W2"
      }
    },
    {
      "cell_type": "code",
      "source": [
        "n1 = int(input(\"informe n1: \"))\n",
        "n2 = int(input(\"informe n2: \"))\n",
        "if (n1+n2)>10:\n",
        "  print(n1+n2)\n"
      ],
      "metadata": {
        "colab": {
          "base_uri": "https://localhost:8080/"
        },
        "id": "VJjty20M6UVU",
        "outputId": "d72a0ccd-41fa-4140-8a4b-a9ee97645afd"
      },
      "execution_count": null,
      "outputs": [
        {
          "output_type": "stream",
          "name": "stdout",
          "text": [
            "informe n1: 8\n",
            "informe n2: 9\n",
            "17\n"
          ]
        }
      ]
    },
    {
      "cell_type": "markdown",
      "source": [
        "4. Ler dois valores inteiros e efetuar a adição:\n",
        "* Caso o resultado seja maior ou igual a 10, deve ser\n",
        "acrescido de 5;\n",
        "* Caso contrário, o resultado deve ser diminuído em 7.\n",
        "Ao final apresentar os valores digitados e o resultado."
      ],
      "metadata": {
        "id": "FL88H8dL-wlk"
      }
    },
    {
      "cell_type": "code",
      "source": [
        "n1 = int(input(\"Informe n1: \"))\n",
        "n2 = int(input(\"Informe n2: \"))\n",
        "soma =n1+n2\n",
        "if soma>=10:\n",
        "  resultado = soma+5\n",
        "  print(\"resultado: %d\"%resultado)\n",
        "else:\n",
        "  resultado = soma-7\n",
        "  print(\"resultado: %d\"%resultado)\n",
        "print(\"n1: %d\"%n1)\n",
        "print(\"n2: %d\"%n2)"
      ],
      "metadata": {
        "colab": {
          "base_uri": "https://localhost:8080/"
        },
        "id": "oUOqTK0w-9qZ",
        "outputId": "94fde634-07f7-4410-d7c0-ff05e0419e82"
      },
      "execution_count": null,
      "outputs": [
        {
          "output_type": "stream",
          "name": "stdout",
          "text": [
            "Informe n1: 8\n",
            "Informe n2: 9\n",
            "resultado: 22\n",
            "n1: 8\n",
            "n2: 9\n"
          ]
        }
      ]
    },
    {
      "cell_type": "markdown",
      "source": [
        "5. Construir um programa que leia três valores inteiros e\n",
        "imprima o maior valor (considerar que sejam diferentes)."
      ],
      "metadata": {
        "id": "5RGx54AIAbDW"
      }
    },
    {
      "cell_type": "code",
      "source": [
        "n1 = int(input(\"Informe n1: \"))\n",
        "n2 = int(input(\"Informe n2: \"))\n",
        "n3 = int(input(\"Informe n3: \"))\n",
        "maior = n1\n",
        "if n2>maior:\n",
        "  maior = n2\n",
        "if n3>maior:\n",
        "  maior=n3\n",
        "print(\"O maior valor é %d\"%maior)"
      ],
      "metadata": {
        "colab": {
          "base_uri": "https://localhost:8080/"
        },
        "id": "wjqPdSv0Aixv",
        "outputId": "23113f15-35fc-43a9-84c1-3b956a99d820"
      },
      "execution_count": null,
      "outputs": [
        {
          "output_type": "stream",
          "name": "stdout",
          "text": [
            "Informe n1: 2\n",
            "Informe n2: 3\n",
            "Informe n3: 4\n",
            "O maior valor é 4\n"
          ]
        }
      ]
    },
    {
      "cell_type": "markdown",
      "source": [
        "6. Elabore um programa que, dada a idade de um nadador,\n",
        "classifique-o em cada uma das seguintes categorias:\n",
        "* Infantil A = 5 a 7 anos;\n",
        "* Infantil B = 8 a 11 anos;\n",
        "* Juvenil A = 12 a 13 anos;\n",
        "* Juvenil B = 14 a 17 anos;\n",
        "* Adultos = Maiores de 18 anos."
      ],
      "metadata": {
        "id": "adZsauLDBgr1"
      }
    },
    {
      "cell_type": "code",
      "source": [
        "idade = int(input(\"Informe a idade: \"))\n",
        "if idade >= 5 and idade<=7:\n",
        "  print(\"infantil A\")\n",
        "elif idade >= 8 and idade<=11:\n",
        "  print(\"infantil B\")\n",
        "elif idade >= 12 and idade<=13:\n",
        "  print(\"juvenil A\")\n",
        "elif idade >= 14 and idade<=17:\n",
        "  print(\"juvenil B\")\n",
        "else:\n",
        "  print(\"Maiores de 18.\")"
      ],
      "metadata": {
        "id": "ZwqS-0XYBnwb",
        "colab": {
          "base_uri": "https://localhost:8080/"
        },
        "outputId": "18c6f3d7-26cb-4343-a801-f2188389d5ba"
      },
      "execution_count": null,
      "outputs": [
        {
          "output_type": "stream",
          "name": "stdout",
          "text": [
            "Informe a idade: 15\n",
            "juvenil B\n"
          ]
        }
      ]
    },
    {
      "cell_type": "markdown",
      "source": [
        "7. Escreva um programa que, dada a média de um aluno,\n",
        "informe se ele está aprovado, reprovado, ou se precisará\n",
        "fazer exame.\n",
        "O aluno estará:\n",
        "* aprovado quando a média for igual ou superior a sete (07),\n",
        "* reprovado se a média for menor que quatro (04), e\n",
        "* irá para exame se a média for igual ou maior que quatro,\n",
        "mas menor que sete."
      ],
      "metadata": {
        "id": "JAfW4iKMrf0h"
      }
    },
    {
      "cell_type": "code",
      "source": [
        "media = float(input(\"Informe a média: \"))\n",
        "if media <4:\n",
        "  print(\"Reprovado\")\n",
        "elif media>=4 and media<7:\n",
        "  print(\"Precisa fazer exame\")\n",
        "else:\n",
        "  print(\"Aprovado\")"
      ],
      "metadata": {
        "colab": {
          "base_uri": "https://localhost:8080/"
        },
        "id": "XuNROVazrqvd",
        "outputId": "eca892f7-a848-45d2-8993-7d7754bad686"
      },
      "execution_count": null,
      "outputs": [
        {
          "output_type": "stream",
          "name": "stdout",
          "text": [
            "Informe a média: 9\n",
            "Aprovado\n"
          ]
        }
      ]
    },
    {
      "cell_type": "markdown",
      "source": [
        "8. Ler o salário bruto de uma pessoa e calcular o valor de\n",
        "desconto do INSS conforme tabela abaixo.\n",
        "Ao final, imprimir o valor do salário bruto, o desconto do\n",
        "INSS e o salário final a receber."
      ],
      "metadata": {
        "id": "28lVhgjTsc1g"
      }
    },
    {
      "cell_type": "code",
      "source": [
        "salario_bruto = float(input(\"Informe o salário bruto: \"))\n",
        "if salario_bruto<=600:\n",
        "  desconto = 0\n",
        "elif salario_bruto>600 and salario_bruto<=1200:\n",
        "  desconto = salario_bruto*0.2\n",
        "elif salario_bruto>1200 and salario_bruto<=2000:\n",
        "  desconto = salario_bruto*0.25\n",
        "else:\n",
        "  desconto = salario_bruto*0.3\n",
        "salario_liquido = salario_bruto - desconto\n",
        "print(\"salári bruto: %.2f\"%salario_bruto)\n",
        "print(\"desconto INSS: %.2f\"%desconto)\n",
        "print(\"salário líquido: %.2f\"%salario_liquido)"
      ],
      "metadata": {
        "colab": {
          "base_uri": "https://localhost:8080/"
        },
        "id": "4owFilogskAn",
        "outputId": "3a793b00-e3bf-42e8-e909-6e572b4d97e0"
      },
      "execution_count": null,
      "outputs": [
        {
          "output_type": "stream",
          "name": "stdout",
          "text": [
            "Informe o salário bruto: 800\n",
            "salári bruto: 800.00\n",
            "desconto INSS: 160.00\n",
            "salário líquido: 640.00\n"
          ]
        }
      ]
    },
    {
      "cell_type": "markdown",
      "source": [
        "9. Calcule a contribuição de imposto de renda anual de um\n",
        "contribuinte conforme a tabela abaixo. O programa deve\n",
        "apresentar o valor da contribuição de Imposto de Renda (IR)\n",
        "baseado no salário do contribuinte. O usuário deve informar o\n",
        "seu salário mensal e será necessário realizar a computação do\n",
        "salário anual (multiplica-se o salário mensal por 13).\n",
        "Finalmente, realiza-se o calculo do IR a ser deduzido do salário\n",
        "anual. A alíquota de imposto de renda segue a tabela abaixo:"
      ],
      "metadata": {
        "id": "9_P4G8eOuFBL"
      }
    },
    {
      "cell_type": "code",
      "source": [
        "salario_mensal = float(input(\"Informe o salário mensal: \"))\n",
        "salario_anual = salario_mensal*13\n",
        "if salario_anual<15764.28:\n",
        "  imposto = 0\n",
        "elif salario_anual>15764.28 and salario_anual>31501.44:\n",
        "  imposto = salario_anual*0.15\n",
        "else:\n",
        "  imposto = salario_anual*0.275\n",
        "print(\"Valor da contribuição: %.2f\"%imposto)\n"
      ],
      "metadata": {
        "colab": {
          "base_uri": "https://localhost:8080/"
        },
        "id": "8hi--U2TuL02",
        "outputId": "1ad43955-e540-444e-baec-249f0c946019"
      },
      "execution_count": null,
      "outputs": [
        {
          "name": "stdout",
          "output_type": "stream",
          "text": [
            "Informe o salário mensal: 1000\n"
          ]
        }
      ]
    },
    {
      "cell_type": "markdown",
      "source": [
        "10. Faça um programa que solicite o peso (em kg) e a altura (em\n",
        "metros) de uma pessoa e calcule o seu Índice de Massa\n",
        "Corpórea (IMC). Adicionalmente, o programa deve emitir\n",
        "as mensagens correspondentes conforme as regras a\n",
        "seguir:\n",
        "Cálculo IMC: IMC = peso / altura * 2\n",
        "* Abaixo de 18,5 => Você está abaixo do peso ideal;\n",
        "* Entre 18,5 e 24,9 => Parabéns — você está em seu peso normal!\n",
        "* Entre 25,0 e 29,9 => Você está acima de seu peso (sobrepeso);\n",
        "* Entre 30,0 e 34,9 => Obesidade grau I;\n",
        "* Entre 35,0 e 39,9 => Obesidade grau II;\n",
        "* 40,0 e acima => Obesidade grau III."
      ],
      "metadata": {
        "id": "0lBPHLzD1QWd"
      }
    },
    {
      "cell_type": "code",
      "source": [
        "altura = float(input(\"Informe a altura em metros: \"))\n",
        "peso = float(input(\"Informe o peso em kg: \"))\n",
        "imc = (peso)/(altura*altura)\n",
        "print(\"Seu IMC é: %.2f\"%imc)\n",
        "if imc < 18.5:\n",
        "  print(\"Você está abaixo do peso ideal.\")\n",
        "elif imc>=18.5 and imc<24.9:\n",
        "  print(\"Você está em seu peso normal.\")\n",
        "elif imc>=25 and imc<=29.9:\n",
        "  print(\"Você está acima do peso ideal (sobrepeso).\")\n",
        "elif imc>=30 and imc<=34.9:\n",
        "  print(\"Obesidade grau I\")\n",
        "elif imc>=35 and imc<39.9:\n",
        "  print(\"Obesidade grau II\")\n",
        "else:\n",
        "  print(\"Obesidade grau III\")"
      ],
      "metadata": {
        "colab": {
          "base_uri": "https://localhost:8080/"
        },
        "id": "UL79zyIf1b8o",
        "outputId": "2d8efc93-4623-4ef5-b10b-f174096eedb5"
      },
      "execution_count": null,
      "outputs": [
        {
          "output_type": "stream",
          "name": "stdout",
          "text": [
            "Informe a altura em metros: 1.6\n",
            "Informe o peso em kg: 78\n",
            "Seu IMC é: 30.47\n",
            "Obesidade grau I\n"
          ]
        }
      ]
    },
    {
      "cell_type": "markdown",
      "source": [
        "11. Uma empresa irá oferecer um reajuste salarial, cujo percentual será decidido\n",
        "através das seguintes situações:\n",
        "* Funcionários do sexo masculino, com tempo de casa superior ou igual a 10\n",
        "anos, terão direito a reajuste de 5%;\n",
        "* Funcionários do sexo masculino, com tempo de casa inferior a 10 anos, terão\n",
        "direito a reajuste de 3%;\n",
        "* Funcionários do sexo feminino, com tempo de casa superior ou igual a 8 anos,\n",
        "terão direito a reajuste de 5%;\n",
        "* Funcionários do sexo feminino, com tempo de casa inferior a 8 anos, terão\n",
        "direito a reajuste de 3%;\n",
        "* Funcionários em qualquer uma das situações acima, porém com mais de um\n",
        "dependente, terão ainda um reajuste de 2% sobre o salário reajustado\n",
        "anteriormente.\n",
        "Faça um programa que, dado o sexo, o salário, o tempo de casa e o número de\n",
        "dependentes de um funcionário, apresente: salário atual, reajuste, novo salário."
      ],
      "metadata": {
        "id": "QYASXUve1etf"
      }
    },
    {
      "cell_type": "code",
      "source": [
        "sexo = input(\"Informe o sexo (F - feminino/ M - masculino): \")\n",
        "salario = float(input(\"Informe o salario: \"))\n",
        "tempo = int(input(\"Informe o tempo de casa(anos): \"))\n",
        "dependentes = int(input(\"Informe o número de dependentes: \"))\n",
        "if sexo==\"M\":\n",
        "  if tempo>10:\n",
        "    reajuste = 1.05\n",
        "  else:\n",
        "    reajuste=1.03\n",
        "else:\n",
        "  if tempo>8:\n",
        "    reajuste = 1.05\n",
        "  else:\n",
        "    reajuste= 1.03\n",
        "if dependentes>1:\n",
        "  reajuste=reajuste*1.02\n",
        "sreajustado = (reajuste*salario)\n",
        "print(\"Salário reajustado: %.2f\"%sreajustado)\n",
        "\n"
      ],
      "metadata": {
        "colab": {
          "base_uri": "https://localhost:8080/"
        },
        "id": "UKDRqGx61py0",
        "outputId": "f0bce917-6699-4d05-b622-c1bfa2839b7c"
      },
      "execution_count": null,
      "outputs": [
        {
          "output_type": "stream",
          "name": "stdout",
          "text": [
            "Informe o sexo (F - feminino/ M - masculino): F\n",
            "Informe o salario: 100\n",
            "Informe o tempo de casa(anos): 11\n",
            "Informe o número de dependentes: 2\n",
            "Salário reajustado: 107.10\n"
          ]
        }
      ]
    }
  ]
}